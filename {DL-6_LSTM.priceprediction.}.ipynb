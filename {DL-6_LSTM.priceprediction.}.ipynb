{
 "cells": [
  {
   "cell_type": "code",
   "execution_count": 1,
   "id": "b404d867",
   "metadata": {},
   "outputs": [],
   "source": [
    "import numpy as np\n",
    "import pandas as pd\n",
    "import matplotlib.pyplot as plt"
   ]
  },
  {
   "cell_type": "code",
   "execution_count": 2,
   "id": "49aa9e05",
   "metadata": {},
   "outputs": [],
   "source": [
    "df=pd.read_csv('DL-6_NSE-TATAGLOBAL.csv')"
   ]
  },
  {
   "cell_type": "code",
   "execution_count": 3,
   "id": "bd1dfe2e",
   "metadata": {},
   "outputs": [
    {
     "data": {
      "text/html": [
       "<div>\n",
       "<style scoped>\n",
       "    .dataframe tbody tr th:only-of-type {\n",
       "        vertical-align: middle;\n",
       "    }\n",
       "\n",
       "    .dataframe tbody tr th {\n",
       "        vertical-align: top;\n",
       "    }\n",
       "\n",
       "    .dataframe thead th {\n",
       "        text-align: right;\n",
       "    }\n",
       "</style>\n",
       "<table border=\"1\" class=\"dataframe\">\n",
       "  <thead>\n",
       "    <tr style=\"text-align: right;\">\n",
       "      <th></th>\n",
       "      <th>Date</th>\n",
       "      <th>Open</th>\n",
       "      <th>High</th>\n",
       "      <th>Low</th>\n",
       "      <th>Last</th>\n",
       "      <th>Close</th>\n",
       "      <th>Total Trade Quantity</th>\n",
       "      <th>Turnover (Lacs)</th>\n",
       "    </tr>\n",
       "  </thead>\n",
       "  <tbody>\n",
       "    <tr>\n",
       "      <th>0</th>\n",
       "      <td>2018-09-28</td>\n",
       "      <td>234.05</td>\n",
       "      <td>235.95</td>\n",
       "      <td>230.20</td>\n",
       "      <td>233.50</td>\n",
       "      <td>233.75</td>\n",
       "      <td>3069914</td>\n",
       "      <td>7162.35</td>\n",
       "    </tr>\n",
       "    <tr>\n",
       "      <th>1</th>\n",
       "      <td>2018-09-27</td>\n",
       "      <td>234.55</td>\n",
       "      <td>236.80</td>\n",
       "      <td>231.10</td>\n",
       "      <td>233.80</td>\n",
       "      <td>233.25</td>\n",
       "      <td>5082859</td>\n",
       "      <td>11859.95</td>\n",
       "    </tr>\n",
       "    <tr>\n",
       "      <th>2</th>\n",
       "      <td>2018-09-26</td>\n",
       "      <td>240.00</td>\n",
       "      <td>240.00</td>\n",
       "      <td>232.50</td>\n",
       "      <td>235.00</td>\n",
       "      <td>234.25</td>\n",
       "      <td>2240909</td>\n",
       "      <td>5248.60</td>\n",
       "    </tr>\n",
       "    <tr>\n",
       "      <th>3</th>\n",
       "      <td>2018-09-25</td>\n",
       "      <td>233.30</td>\n",
       "      <td>236.75</td>\n",
       "      <td>232.00</td>\n",
       "      <td>236.25</td>\n",
       "      <td>236.10</td>\n",
       "      <td>2349368</td>\n",
       "      <td>5503.90</td>\n",
       "    </tr>\n",
       "    <tr>\n",
       "      <th>4</th>\n",
       "      <td>2018-09-24</td>\n",
       "      <td>233.55</td>\n",
       "      <td>239.20</td>\n",
       "      <td>230.75</td>\n",
       "      <td>234.00</td>\n",
       "      <td>233.30</td>\n",
       "      <td>3423509</td>\n",
       "      <td>7999.55</td>\n",
       "    </tr>\n",
       "    <tr>\n",
       "      <th>...</th>\n",
       "      <td>...</td>\n",
       "      <td>...</td>\n",
       "      <td>...</td>\n",
       "      <td>...</td>\n",
       "      <td>...</td>\n",
       "      <td>...</td>\n",
       "      <td>...</td>\n",
       "      <td>...</td>\n",
       "    </tr>\n",
       "    <tr>\n",
       "      <th>2030</th>\n",
       "      <td>2010-07-27</td>\n",
       "      <td>117.60</td>\n",
       "      <td>119.50</td>\n",
       "      <td>112.00</td>\n",
       "      <td>118.80</td>\n",
       "      <td>118.65</td>\n",
       "      <td>586100</td>\n",
       "      <td>694.98</td>\n",
       "    </tr>\n",
       "    <tr>\n",
       "      <th>2031</th>\n",
       "      <td>2010-07-26</td>\n",
       "      <td>120.10</td>\n",
       "      <td>121.00</td>\n",
       "      <td>117.10</td>\n",
       "      <td>117.10</td>\n",
       "      <td>117.60</td>\n",
       "      <td>658440</td>\n",
       "      <td>780.01</td>\n",
       "    </tr>\n",
       "    <tr>\n",
       "      <th>2032</th>\n",
       "      <td>2010-07-23</td>\n",
       "      <td>121.80</td>\n",
       "      <td>121.95</td>\n",
       "      <td>120.25</td>\n",
       "      <td>120.35</td>\n",
       "      <td>120.65</td>\n",
       "      <td>281312</td>\n",
       "      <td>340.31</td>\n",
       "    </tr>\n",
       "    <tr>\n",
       "      <th>2033</th>\n",
       "      <td>2010-07-22</td>\n",
       "      <td>120.30</td>\n",
       "      <td>122.00</td>\n",
       "      <td>120.25</td>\n",
       "      <td>120.75</td>\n",
       "      <td>120.90</td>\n",
       "      <td>293312</td>\n",
       "      <td>355.17</td>\n",
       "    </tr>\n",
       "    <tr>\n",
       "      <th>2034</th>\n",
       "      <td>2010-07-21</td>\n",
       "      <td>122.10</td>\n",
       "      <td>123.00</td>\n",
       "      <td>121.05</td>\n",
       "      <td>121.10</td>\n",
       "      <td>121.55</td>\n",
       "      <td>658666</td>\n",
       "      <td>803.56</td>\n",
       "    </tr>\n",
       "  </tbody>\n",
       "</table>\n",
       "<p>2035 rows × 8 columns</p>\n",
       "</div>"
      ],
      "text/plain": [
       "            Date    Open    High     Low    Last   Close   \n",
       "0     2018-09-28  234.05  235.95  230.20  233.50  233.75  \\\n",
       "1     2018-09-27  234.55  236.80  231.10  233.80  233.25   \n",
       "2     2018-09-26  240.00  240.00  232.50  235.00  234.25   \n",
       "3     2018-09-25  233.30  236.75  232.00  236.25  236.10   \n",
       "4     2018-09-24  233.55  239.20  230.75  234.00  233.30   \n",
       "...          ...     ...     ...     ...     ...     ...   \n",
       "2030  2010-07-27  117.60  119.50  112.00  118.80  118.65   \n",
       "2031  2010-07-26  120.10  121.00  117.10  117.10  117.60   \n",
       "2032  2010-07-23  121.80  121.95  120.25  120.35  120.65   \n",
       "2033  2010-07-22  120.30  122.00  120.25  120.75  120.90   \n",
       "2034  2010-07-21  122.10  123.00  121.05  121.10  121.55   \n",
       "\n",
       "      Total Trade Quantity  Turnover (Lacs)  \n",
       "0                  3069914          7162.35  \n",
       "1                  5082859         11859.95  \n",
       "2                  2240909          5248.60  \n",
       "3                  2349368          5503.90  \n",
       "4                  3423509          7999.55  \n",
       "...                    ...              ...  \n",
       "2030                586100           694.98  \n",
       "2031                658440           780.01  \n",
       "2032                281312           340.31  \n",
       "2033                293312           355.17  \n",
       "2034                658666           803.56  \n",
       "\n",
       "[2035 rows x 8 columns]"
      ]
     },
     "execution_count": 3,
     "metadata": {},
     "output_type": "execute_result"
    }
   ],
   "source": [
    "df"
   ]
  },
  {
   "cell_type": "code",
   "execution_count": 4,
   "id": "97258bb0",
   "metadata": {},
   "outputs": [
    {
     "data": {
      "text/plain": [
       "(2035, 8)"
      ]
     },
     "execution_count": 4,
     "metadata": {},
     "output_type": "execute_result"
    }
   ],
   "source": [
    "df.shape"
   ]
  },
  {
   "cell_type": "code",
   "execution_count": 13,
   "id": "1db96c28",
   "metadata": {},
   "outputs": [],
   "source": [
    "train =df.iloc[:,1:2].values"
   ]
  },
  {
   "cell_type": "code",
   "execution_count": 14,
   "id": "85e1e1ce",
   "metadata": {},
   "outputs": [
    {
     "data": {
      "text/plain": [
       "array([[234.05],\n",
       "       [234.55],\n",
       "       [240.  ],\n",
       "       ...,\n",
       "       [121.8 ],\n",
       "       [120.3 ],\n",
       "       [122.1 ]])"
      ]
     },
     "execution_count": 14,
     "metadata": {},
     "output_type": "execute_result"
    }
   ],
   "source": [
    "train"
   ]
  },
  {
   "cell_type": "code",
   "execution_count": 15,
   "id": "56dec39c",
   "metadata": {},
   "outputs": [],
   "source": [
    "from sklearn.preprocessing import MinMaxScaler\n",
    "mm=MinMaxScaler(feature_range=(0,1))\n",
    "train=mm.fit_transform(train)"
   ]
  },
  {
   "cell_type": "code",
   "execution_count": 16,
   "id": "ced4bc60",
   "metadata": {},
   "outputs": [
    {
     "data": {
      "text/plain": [
       "array([[0.6202352 ],\n",
       "       [0.62226277],\n",
       "       [0.64436334],\n",
       "       ...,\n",
       "       [0.16504461],\n",
       "       [0.15896188],\n",
       "       [0.16626115]])"
      ]
     },
     "execution_count": 16,
     "metadata": {},
     "output_type": "execute_result"
    }
   ],
   "source": [
    "train"
   ]
  },
  {
   "cell_type": "code",
   "execution_count": 17,
   "id": "439c05d2",
   "metadata": {},
   "outputs": [],
   "source": [
    "xtrain=[]\n",
    "ytrain=[]\n",
    "for i in range(60,2035):\n",
    "    xtrain.append(train[i-60:i,0])\n",
    "    ytrain.append(train[i,0])\n",
    "xtrain,ytrain=np.array(xtrain),np.array(ytrain)    "
   ]
  },
  {
   "cell_type": "code",
   "execution_count": 18,
   "id": "32dedc9f",
   "metadata": {},
   "outputs": [
    {
     "data": {
      "text/plain": [
       "(1975, 60)"
      ]
     },
     "execution_count": 18,
     "metadata": {},
     "output_type": "execute_result"
    }
   ],
   "source": [
    "xtrain.shape"
   ]
  },
  {
   "cell_type": "code",
   "execution_count": 19,
   "id": "70e109cb",
   "metadata": {},
   "outputs": [
    {
     "data": {
      "text/plain": [
       "(1975,)"
      ]
     },
     "execution_count": 19,
     "metadata": {},
     "output_type": "execute_result"
    }
   ],
   "source": [
    "ytrain.shape"
   ]
  },
  {
   "cell_type": "code",
   "execution_count": 20,
   "id": "02e80196",
   "metadata": {},
   "outputs": [
    {
     "data": {
      "text/plain": [
       "array([[0.6202352 , 0.62226277, 0.64436334, ..., 0.79622871, 0.81062449,\n",
       "        0.74371452],\n",
       "       [0.62226277, 0.64436334, 0.61719384, ..., 0.81062449, 0.74371452,\n",
       "        0.77007299],\n",
       "       [0.64436334, 0.61719384, 0.61820762, ..., 0.74371452, 0.77007299,\n",
       "        0.73641525],\n",
       "       ...,\n",
       "       [0.19870235, 0.21796431, 0.21553122, ..., 0.14963504, 0.14801298,\n",
       "        0.15815085],\n",
       "       [0.21796431, 0.21553122, 0.20600162, ..., 0.14801298, 0.15815085,\n",
       "        0.16504461],\n",
       "       [0.21553122, 0.20600162, 0.21654501, ..., 0.15815085, 0.16504461,\n",
       "        0.15896188]])"
      ]
     },
     "execution_count": 20,
     "metadata": {},
     "output_type": "execute_result"
    }
   ],
   "source": [
    "xtrain"
   ]
  },
  {
   "cell_type": "code",
   "execution_count": 23,
   "id": "1f217b3a",
   "metadata": {},
   "outputs": [],
   "source": [
    "xtrain=np.reshape(xtrain,(xtrain.shape[0],xtrain.shape[1],1))"
   ]
  },
  {
   "cell_type": "code",
   "execution_count": 24,
   "id": "b88abe2c",
   "metadata": {},
   "outputs": [
    {
     "data": {
      "text/plain": [
       "(1975, 60, 1)"
      ]
     },
     "execution_count": 24,
     "metadata": {},
     "output_type": "execute_result"
    }
   ],
   "source": [
    "xtrain.shape"
   ]
  },
  {
   "cell_type": "code",
   "execution_count": 25,
   "id": "b782d4b0",
   "metadata": {},
   "outputs": [],
   "source": [
    "from tensorflow.keras.models import Sequential\n",
    "from tensorflow.keras.layers import Dense,LSTM, Dropout"
   ]
  },
  {
   "cell_type": "code",
   "execution_count": 77,
   "id": "f847e0fe",
   "metadata": {},
   "outputs": [],
   "source": [
    "model=Sequential()\n",
    "# Add first LSTM Layer\n",
    "model.add(LSTM(units=50,return_sequences=True,input_shape=(xtrain.shape[1],1)))\n",
    "model.add(Dropout(0.2))\n",
    "\n",
    "# Add second LSTM Layer\n",
    "model.add(LSTM(units=50,return_sequences=True))\n",
    "model.add(Dropout(0.2))\n",
    "\n",
    "# Add third LSTM Layer\n",
    "model.add(LSTM(units=50,return_sequences=True))\n",
    "model.add(Dropout(0.2))\n",
    "\n",
    "# Add fourth LSTM Layer\n",
    "model.add(LSTM(units=50))\n",
    "model.add(Dropout(0.2))\n",
    "\n",
    "# Adding the output layer\n",
    "model.add(Dense(units=1))"
   ]
  },
  {
   "cell_type": "code",
   "execution_count": 78,
   "id": "5decfd7f",
   "metadata": {},
   "outputs": [
    {
     "name": "stdout",
     "output_type": "stream",
     "text": [
      "Model: \"sequential_4\"\n",
      "_________________________________________________________________\n",
      " Layer (type)                Output Shape              Param #   \n",
      "=================================================================\n",
      " lstm_5 (LSTM)               (None, 60, 50)            10400     \n",
      "                                                                 \n",
      " dropout_5 (Dropout)         (None, 60, 50)            0         \n",
      "                                                                 \n",
      " lstm_6 (LSTM)               (None, 60, 50)            20200     \n",
      "                                                                 \n",
      " dropout_6 (Dropout)         (None, 60, 50)            0         \n",
      "                                                                 \n",
      " lstm_7 (LSTM)               (None, 60, 50)            20200     \n",
      "                                                                 \n",
      " dropout_7 (Dropout)         (None, 60, 50)            0         \n",
      "                                                                 \n",
      " lstm_8 (LSTM)               (None, 50)                20200     \n",
      "                                                                 \n",
      " dropout_8 (Dropout)         (None, 50)                0         \n",
      "                                                                 \n",
      " dense_1 (Dense)             (None, 1)                 51        \n",
      "                                                                 \n",
      "=================================================================\n",
      "Total params: 71,051\n",
      "Trainable params: 71,051\n",
      "Non-trainable params: 0\n",
      "_________________________________________________________________\n"
     ]
    }
   ],
   "source": [
    "model.summary()"
   ]
  },
  {
   "cell_type": "code",
   "execution_count": 79,
   "id": "d8b072ea",
   "metadata": {},
   "outputs": [],
   "source": [
    "model.compile(loss='mean_squared_error',optimizer='adam')"
   ]
  },
  {
   "cell_type": "code",
   "execution_count": 80,
   "id": "fd67b887",
   "metadata": {},
   "outputs": [
    {
     "name": "stdout",
     "output_type": "stream",
     "text": [
      "Epoch 1/10\n",
      "62/62 [==============================] - 23s 169ms/step - loss: 0.0113\n",
      "Epoch 2/10\n",
      "62/62 [==============================] - 10s 155ms/step - loss: 0.0031\n",
      "Epoch 3/10\n",
      "62/62 [==============================] - 9s 145ms/step - loss: 0.0028\n",
      "Epoch 4/10\n",
      "62/62 [==============================] - 9s 142ms/step - loss: 0.0025\n",
      "Epoch 5/10\n",
      "62/62 [==============================] - 11s 183ms/step - loss: 0.0022\n",
      "Epoch 6/10\n",
      "62/62 [==============================] - 12s 197ms/step - loss: 0.0023\n",
      "Epoch 7/10\n",
      "62/62 [==============================] - 11s 170ms/step - loss: 0.0023\n",
      "Epoch 8/10\n",
      "62/62 [==============================] - 10s 159ms/step - loss: 0.0024\n",
      "Epoch 9/10\n",
      "62/62 [==============================] - 11s 173ms/step - loss: 0.0020\n",
      "Epoch 10/10\n",
      "62/62 [==============================] - 10s 168ms/step - loss: 0.0020\n"
     ]
    },
    {
     "data": {
      "text/plain": [
       "<keras.callbacks.History at 0x2c276e25c10>"
      ]
     },
     "execution_count": 80,
     "metadata": {},
     "output_type": "execute_result"
    }
   ],
   "source": [
    "model.fit(xtrain,ytrain,epochs=10)"
   ]
  },
  {
   "cell_type": "code",
   "execution_count": 81,
   "id": "472a9d93",
   "metadata": {},
   "outputs": [],
   "source": [
    "tset=pd.read_csv('DL-6_tatatest.csv')"
   ]
  },
  {
   "cell_type": "code",
   "execution_count": 82,
   "id": "fc987b94",
   "metadata": {},
   "outputs": [
    {
     "data": {
      "text/plain": [
       "(16, 8)"
      ]
     },
     "execution_count": 82,
     "metadata": {},
     "output_type": "execute_result"
    }
   ],
   "source": [
    "tset.shape"
   ]
  },
  {
   "cell_type": "code",
   "execution_count": 83,
   "id": "ab27ad4e",
   "metadata": {},
   "outputs": [
    {
     "data": {
      "text/html": [
       "<div>\n",
       "<style scoped>\n",
       "    .dataframe tbody tr th:only-of-type {\n",
       "        vertical-align: middle;\n",
       "    }\n",
       "\n",
       "    .dataframe tbody tr th {\n",
       "        vertical-align: top;\n",
       "    }\n",
       "\n",
       "    .dataframe thead th {\n",
       "        text-align: right;\n",
       "    }\n",
       "</style>\n",
       "<table border=\"1\" class=\"dataframe\">\n",
       "  <thead>\n",
       "    <tr style=\"text-align: right;\">\n",
       "      <th></th>\n",
       "      <th>Date</th>\n",
       "      <th>Open</th>\n",
       "      <th>High</th>\n",
       "      <th>Low</th>\n",
       "      <th>Last</th>\n",
       "      <th>Close</th>\n",
       "      <th>Total Trade Quantity</th>\n",
       "      <th>Turnover (Lacs)</th>\n",
       "    </tr>\n",
       "  </thead>\n",
       "  <tbody>\n",
       "    <tr>\n",
       "      <th>0</th>\n",
       "      <td>2018-10-24</td>\n",
       "      <td>220.10</td>\n",
       "      <td>221.25</td>\n",
       "      <td>217.05</td>\n",
       "      <td>219.55</td>\n",
       "      <td>219.80</td>\n",
       "      <td>2171956</td>\n",
       "      <td>4771.34</td>\n",
       "    </tr>\n",
       "    <tr>\n",
       "      <th>1</th>\n",
       "      <td>2018-10-23</td>\n",
       "      <td>221.10</td>\n",
       "      <td>222.20</td>\n",
       "      <td>214.75</td>\n",
       "      <td>219.55</td>\n",
       "      <td>218.30</td>\n",
       "      <td>1416279</td>\n",
       "      <td>3092.15</td>\n",
       "    </tr>\n",
       "    <tr>\n",
       "      <th>2</th>\n",
       "      <td>2018-10-22</td>\n",
       "      <td>229.45</td>\n",
       "      <td>231.60</td>\n",
       "      <td>222.00</td>\n",
       "      <td>223.05</td>\n",
       "      <td>223.25</td>\n",
       "      <td>3529711</td>\n",
       "      <td>8028.37</td>\n",
       "    </tr>\n",
       "    <tr>\n",
       "      <th>3</th>\n",
       "      <td>2018-10-19</td>\n",
       "      <td>230.30</td>\n",
       "      <td>232.70</td>\n",
       "      <td>225.50</td>\n",
       "      <td>227.75</td>\n",
       "      <td>227.20</td>\n",
       "      <td>1527904</td>\n",
       "      <td>3490.78</td>\n",
       "    </tr>\n",
       "    <tr>\n",
       "      <th>4</th>\n",
       "      <td>2018-10-17</td>\n",
       "      <td>237.70</td>\n",
       "      <td>240.80</td>\n",
       "      <td>229.45</td>\n",
       "      <td>231.30</td>\n",
       "      <td>231.10</td>\n",
       "      <td>2945914</td>\n",
       "      <td>6961.65</td>\n",
       "    </tr>\n",
       "    <tr>\n",
       "      <th>5</th>\n",
       "      <td>2018-10-16</td>\n",
       "      <td>237.10</td>\n",
       "      <td>237.70</td>\n",
       "      <td>233.05</td>\n",
       "      <td>234.40</td>\n",
       "      <td>235.45</td>\n",
       "      <td>1723113</td>\n",
       "      <td>4052.25</td>\n",
       "    </tr>\n",
       "    <tr>\n",
       "      <th>6</th>\n",
       "      <td>2018-10-15</td>\n",
       "      <td>229.70</td>\n",
       "      <td>237.00</td>\n",
       "      <td>226.80</td>\n",
       "      <td>234.80</td>\n",
       "      <td>234.90</td>\n",
       "      <td>1224339</td>\n",
       "      <td>2845.68</td>\n",
       "    </tr>\n",
       "    <tr>\n",
       "      <th>7</th>\n",
       "      <td>2018-10-12</td>\n",
       "      <td>226.25</td>\n",
       "      <td>232.35</td>\n",
       "      <td>225.50</td>\n",
       "      <td>228.70</td>\n",
       "      <td>229.10</td>\n",
       "      <td>1165527</td>\n",
       "      <td>2675.91</td>\n",
       "    </tr>\n",
       "    <tr>\n",
       "      <th>8</th>\n",
       "      <td>2018-10-11</td>\n",
       "      <td>215.00</td>\n",
       "      <td>229.70</td>\n",
       "      <td>215.00</td>\n",
       "      <td>225.60</td>\n",
       "      <td>224.60</td>\n",
       "      <td>1293881</td>\n",
       "      <td>2890.85</td>\n",
       "    </tr>\n",
       "    <tr>\n",
       "      <th>9</th>\n",
       "      <td>2018-10-10</td>\n",
       "      <td>215.00</td>\n",
       "      <td>229.65</td>\n",
       "      <td>215.00</td>\n",
       "      <td>228.25</td>\n",
       "      <td>228.40</td>\n",
       "      <td>2919278</td>\n",
       "      <td>6557.95</td>\n",
       "    </tr>\n",
       "    <tr>\n",
       "      <th>10</th>\n",
       "      <td>2018-10-09</td>\n",
       "      <td>215.50</td>\n",
       "      <td>219.15</td>\n",
       "      <td>209.60</td>\n",
       "      <td>215.00</td>\n",
       "      <td>216.50</td>\n",
       "      <td>1844462</td>\n",
       "      <td>3940.70</td>\n",
       "    </tr>\n",
       "    <tr>\n",
       "      <th>11</th>\n",
       "      <td>2018-10-08</td>\n",
       "      <td>208.00</td>\n",
       "      <td>222.25</td>\n",
       "      <td>206.85</td>\n",
       "      <td>216.00</td>\n",
       "      <td>215.15</td>\n",
       "      <td>4642146</td>\n",
       "      <td>10062.83</td>\n",
       "    </tr>\n",
       "    <tr>\n",
       "      <th>12</th>\n",
       "      <td>2018-10-05</td>\n",
       "      <td>217.00</td>\n",
       "      <td>218.60</td>\n",
       "      <td>205.90</td>\n",
       "      <td>210.25</td>\n",
       "      <td>209.20</td>\n",
       "      <td>3519515</td>\n",
       "      <td>7407.06</td>\n",
       "    </tr>\n",
       "    <tr>\n",
       "      <th>13</th>\n",
       "      <td>2018-10-04</td>\n",
       "      <td>223.50</td>\n",
       "      <td>227.80</td>\n",
       "      <td>216.15</td>\n",
       "      <td>217.25</td>\n",
       "      <td>218.20</td>\n",
       "      <td>1728786</td>\n",
       "      <td>3815.79</td>\n",
       "    </tr>\n",
       "    <tr>\n",
       "      <th>14</th>\n",
       "      <td>2018-10-03</td>\n",
       "      <td>230.00</td>\n",
       "      <td>237.50</td>\n",
       "      <td>225.75</td>\n",
       "      <td>226.45</td>\n",
       "      <td>227.60</td>\n",
       "      <td>1708590</td>\n",
       "      <td>3960.27</td>\n",
       "    </tr>\n",
       "    <tr>\n",
       "      <th>15</th>\n",
       "      <td>2018-10-01</td>\n",
       "      <td>234.55</td>\n",
       "      <td>234.60</td>\n",
       "      <td>221.05</td>\n",
       "      <td>230.30</td>\n",
       "      <td>230.90</td>\n",
       "      <td>1534749</td>\n",
       "      <td>3486.05</td>\n",
       "    </tr>\n",
       "  </tbody>\n",
       "</table>\n",
       "</div>"
      ],
      "text/plain": [
       "          Date    Open    High     Low    Last   Close  Total Trade Quantity   \n",
       "0   2018-10-24  220.10  221.25  217.05  219.55  219.80               2171956  \\\n",
       "1   2018-10-23  221.10  222.20  214.75  219.55  218.30               1416279   \n",
       "2   2018-10-22  229.45  231.60  222.00  223.05  223.25               3529711   \n",
       "3   2018-10-19  230.30  232.70  225.50  227.75  227.20               1527904   \n",
       "4   2018-10-17  237.70  240.80  229.45  231.30  231.10               2945914   \n",
       "5   2018-10-16  237.10  237.70  233.05  234.40  235.45               1723113   \n",
       "6   2018-10-15  229.70  237.00  226.80  234.80  234.90               1224339   \n",
       "7   2018-10-12  226.25  232.35  225.50  228.70  229.10               1165527   \n",
       "8   2018-10-11  215.00  229.70  215.00  225.60  224.60               1293881   \n",
       "9   2018-10-10  215.00  229.65  215.00  228.25  228.40               2919278   \n",
       "10  2018-10-09  215.50  219.15  209.60  215.00  216.50               1844462   \n",
       "11  2018-10-08  208.00  222.25  206.85  216.00  215.15               4642146   \n",
       "12  2018-10-05  217.00  218.60  205.90  210.25  209.20               3519515   \n",
       "13  2018-10-04  223.50  227.80  216.15  217.25  218.20               1728786   \n",
       "14  2018-10-03  230.00  237.50  225.75  226.45  227.60               1708590   \n",
       "15  2018-10-01  234.55  234.60  221.05  230.30  230.90               1534749   \n",
       "\n",
       "    Turnover (Lacs)  \n",
       "0           4771.34  \n",
       "1           3092.15  \n",
       "2           8028.37  \n",
       "3           3490.78  \n",
       "4           6961.65  \n",
       "5           4052.25  \n",
       "6           2845.68  \n",
       "7           2675.91  \n",
       "8           2890.85  \n",
       "9           6557.95  \n",
       "10          3940.70  \n",
       "11         10062.83  \n",
       "12          7407.06  \n",
       "13          3815.79  \n",
       "14          3960.27  \n",
       "15          3486.05  "
      ]
     },
     "execution_count": 83,
     "metadata": {},
     "output_type": "execute_result"
    }
   ],
   "source": [
    "tset"
   ]
  },
  {
   "cell_type": "code",
   "execution_count": 84,
   "id": "51de398e",
   "metadata": {},
   "outputs": [],
   "source": [
    "test=tset.iloc[:,1:2].values"
   ]
  },
  {
   "cell_type": "code",
   "execution_count": 85,
   "id": "9b2737bd",
   "metadata": {},
   "outputs": [
    {
     "data": {
      "text/plain": [
       "array([[220.1 ],\n",
       "       [221.1 ],\n",
       "       [229.45],\n",
       "       [230.3 ],\n",
       "       [237.7 ],\n",
       "       [237.1 ],\n",
       "       [229.7 ],\n",
       "       [226.25],\n",
       "       [215.  ],\n",
       "       [215.  ],\n",
       "       [215.5 ],\n",
       "       [208.  ],\n",
       "       [217.  ],\n",
       "       [223.5 ],\n",
       "       [230.  ],\n",
       "       [234.55]])"
      ]
     },
     "execution_count": 85,
     "metadata": {},
     "output_type": "execute_result"
    }
   ],
   "source": [
    "test"
   ]
  },
  {
   "cell_type": "code",
   "execution_count": 102,
   "id": "8ff22afb",
   "metadata": {},
   "outputs": [],
   "source": [
    "total=pd.concat((df['Open'],tset['Open']),axis=0)"
   ]
  },
  {
   "cell_type": "code",
   "execution_count": 103,
   "id": "a29ef50d",
   "metadata": {},
   "outputs": [
    {
     "data": {
      "text/plain": [
       "0     234.05\n",
       "1     234.55\n",
       "2     240.00\n",
       "3     233.30\n",
       "4     233.55\n",
       "       ...  \n",
       "11    208.00\n",
       "12    217.00\n",
       "13    223.50\n",
       "14    230.00\n",
       "15    234.55\n",
       "Name: Open, Length: 2051, dtype: float64"
      ]
     },
     "execution_count": 103,
     "metadata": {},
     "output_type": "execute_result"
    }
   ],
   "source": [
    "total"
   ]
  },
  {
   "cell_type": "code",
   "execution_count": 104,
   "id": "9327320f",
   "metadata": {},
   "outputs": [
    {
     "data": {
      "text/plain": [
       "(2051,)"
      ]
     },
     "execution_count": 104,
     "metadata": {},
     "output_type": "execute_result"
    }
   ],
   "source": [
    "total.shape"
   ]
  },
  {
   "cell_type": "code",
   "execution_count": 105,
   "id": "f94f0ae3",
   "metadata": {},
   "outputs": [
    {
     "data": {
      "text/plain": [
       "(16, 8)"
      ]
     },
     "execution_count": 105,
     "metadata": {},
     "output_type": "execute_result"
    }
   ],
   "source": [
    "tset.shape"
   ]
  },
  {
   "cell_type": "code",
   "execution_count": 106,
   "id": "62e6e3c3",
   "metadata": {},
   "outputs": [],
   "source": [
    "inputs=total[len(total)-len(tset)-60:].values"
   ]
  },
  {
   "cell_type": "code",
   "execution_count": 107,
   "id": "b20ecf76",
   "metadata": {},
   "outputs": [
    {
     "data": {
      "text/plain": [
       "(76,)"
      ]
     },
     "execution_count": 107,
     "metadata": {},
     "output_type": "execute_result"
    }
   ],
   "source": [
    "inputs.shape"
   ]
  },
  {
   "cell_type": "code",
   "execution_count": 108,
   "id": "dd3b8d43",
   "metadata": {},
   "outputs": [
    {
     "data": {
      "text/plain": [
       "array([131.9 , 134.5 , 134.5 , 134.75, 130.1 , 128.  , 125.  , 124.4 ,\n",
       "       121.3 , 122.3 , 123.3 , 124.6 , 126.35, 123.45, 121.6 , 123.  ,\n",
       "       124.55, 122.5 , 122.8 , 124.  , 124.85, 126.15, 128.5 , 127.7 ,\n",
       "       128.  , 124.  , 123.25, 122.5 , 124.2 , 121.65, 117.  , 118.8 ,\n",
       "       119.  , 118.2 , 116.  , 118.45, 114.  , 112.  , 110.  , 110.15,\n",
       "       111.9 , 115.95, 113.4 , 113.  , 113.75, 112.9 , 112.  , 114.1 ,\n",
       "       117.  , 118.5 , 118.3 , 117.3 , 116.5 , 112.5 , 118.  , 117.6 ,\n",
       "       120.1 , 121.8 , 120.3 , 122.1 , 220.1 , 221.1 , 229.45, 230.3 ,\n",
       "       237.7 , 237.1 , 229.7 , 226.25, 215.  , 215.  , 215.5 , 208.  ,\n",
       "       217.  , 223.5 , 230.  , 234.55])"
      ]
     },
     "execution_count": 108,
     "metadata": {},
     "output_type": "execute_result"
    }
   ],
   "source": [
    "inputs"
   ]
  },
  {
   "cell_type": "code",
   "execution_count": 109,
   "id": "db98bf6f",
   "metadata": {},
   "outputs": [],
   "source": [
    "inputs = inputs.reshape(-1,1)\n",
    "inputs = mm.transform(inputs)"
   ]
  },
  {
   "cell_type": "code",
   "execution_count": 110,
   "id": "53d3efc2",
   "metadata": {},
   "outputs": [],
   "source": [
    "xtest=[]\n",
    "for i in range(60,76):\n",
    "    xtest.append(inputs[i-60:i,0])\n",
    "xtest=np.array(xtest) \n",
    "xtest=np.reshape(xtest,(xtest.shape[0],xtest.shape[1],1))"
   ]
  },
  {
   "cell_type": "code",
   "execution_count": 111,
   "id": "db013f7b",
   "metadata": {},
   "outputs": [
    {
     "data": {
      "text/plain": [
       "(16, 60, 1)"
      ]
     },
     "execution_count": 111,
     "metadata": {},
     "output_type": "execute_result"
    }
   ],
   "source": [
    "xtest.shape"
   ]
  },
  {
   "cell_type": "code",
   "execution_count": 112,
   "id": "149895dc",
   "metadata": {},
   "outputs": [
    {
     "name": "stdout",
     "output_type": "stream",
     "text": [
      "1/1 [==============================] - 0s 59ms/step\n"
     ]
    }
   ],
   "source": [
    "pred=model.predict(xtest)\n",
    "pred=mm.inverse_transform(pred)"
   ]
  },
  {
   "cell_type": "code",
   "execution_count": 113,
   "id": "73440afa",
   "metadata": {},
   "outputs": [
    {
     "data": {
      "text/plain": [
       "array([[116.21663 ],\n",
       "       [117.544975],\n",
       "       [120.54639 ],\n",
       "       [125.78762 ],\n",
       "       [133.42073 ],\n",
       "       [143.25943 ],\n",
       "       [154.79709 ],\n",
       "       [167.24315 ],\n",
       "       [179.7099  ],\n",
       "       [191.2865  ],\n",
       "       [201.2829  ],\n",
       "       [209.30882 ],\n",
       "       [215.16975 ],\n",
       "       [218.99597 ],\n",
       "       [221.14842 ],\n",
       "       [222.1136  ]], dtype=float32)"
      ]
     },
     "execution_count": 113,
     "metadata": {},
     "output_type": "execute_result"
    }
   ],
   "source": [
    "pred"
   ]
  },
  {
   "cell_type": "code",
   "execution_count": 114,
   "id": "79d2b526",
   "metadata": {},
   "outputs": [
    {
     "data": {
      "text/plain": [
       "array([[220.1 ],\n",
       "       [221.1 ],\n",
       "       [229.45],\n",
       "       [230.3 ],\n",
       "       [237.7 ],\n",
       "       [237.1 ],\n",
       "       [229.7 ],\n",
       "       [226.25],\n",
       "       [215.  ],\n",
       "       [215.  ],\n",
       "       [215.5 ],\n",
       "       [208.  ],\n",
       "       [217.  ],\n",
       "       [223.5 ],\n",
       "       [230.  ],\n",
       "       [234.55]])"
      ]
     },
     "execution_count": 114,
     "metadata": {},
     "output_type": "execute_result"
    }
   ],
   "source": [
    "test"
   ]
  },
  {
   "cell_type": "code",
   "execution_count": 115,
   "id": "8b9ab997",
   "metadata": {},
   "outputs": [
    {
     "data": {
      "text/plain": [
       "array([[116.21663 ],\n",
       "       [117.544975],\n",
       "       [120.54639 ],\n",
       "       [125.78762 ],\n",
       "       [133.42073 ],\n",
       "       [143.25943 ],\n",
       "       [154.79709 ],\n",
       "       [167.24315 ],\n",
       "       [179.7099  ],\n",
       "       [191.2865  ],\n",
       "       [201.2829  ],\n",
       "       [209.30882 ],\n",
       "       [215.16975 ],\n",
       "       [218.99597 ],\n",
       "       [221.14842 ],\n",
       "       [222.1136  ]], dtype=float32)"
      ]
     },
     "execution_count": 115,
     "metadata": {},
     "output_type": "execute_result"
    }
   ],
   "source": [
    "pred"
   ]
  },
  {
   "cell_type": "code",
   "execution_count": 116,
   "id": "ceb06ebd",
   "metadata": {},
   "outputs": [
    {
     "data": {
      "image/png": "[encoded data removed]",
      "text/plain": [
       "<Figure size 640x480 with 1 Axes>"
      ]
     },
     "metadata": {},
     "output_type": "display_data"
    }
   ],
   "source": [
    "plt.plot(test,label='Real stock prices',color='red')\n",
    "plt.plot(pred,color='blue',label='predicted')\n",
    "plt.legend()\n",
    "plt.show()"
   ]
  },
  {
   "cell_type": "code",
   "execution_count": null,
   "id": "9f6888ff",
   "metadata": {},
   "outputs": [],
   "source": []
  }
 ],
 "metadata": {
  "kernelspec": {
   "display_name": "Python 3 (ipykernel)",
   "language": "python",
   "name": "python3"
  },
  "language_info": {
   "codemirror_mode": {
    "name": "ipython",
    "version": 3
   },
   "file_extension": ".py",
   "mimetype": "text/x-python",
   "name": "python",
   "nbconvert_exporter": "python",
   "pygments_lexer": "ipython3",
   "version": "3.11.3"
  }
 },
 "nbformat": 4,
 "nbformat_minor": 5
}
